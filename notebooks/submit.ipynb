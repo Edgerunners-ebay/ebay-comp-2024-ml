{
 "cells": [
  {
   "cell_type": "code",
   "execution_count": 1,
   "metadata": {},
   "outputs": [],
   "source": [
    "import os\n",
    "os.chdir(\"/home/017534556/projects/ebay-comp-2024\")"
   ]
  },
  {
   "cell_type": "code",
   "execution_count": 2,
   "metadata": {},
   "outputs": [
    {
     "name": "stderr",
     "output_type": "stream",
     "text": [
      "/home/017534556/pyenvs/ebay_oct25_hpc1/lib/python3.10/site-packages/sentence_transformers/cross_encoder/CrossEncoder.py:13: TqdmExperimentalWarning: Using `tqdm.autonotebook.tqdm` in notebook mode. Use `tqdm.tqdm` instead to force console mode (e.g. in jupyter console)\n",
      "  from tqdm.autonotebook import tqdm, trange\n"
     ]
    }
   ],
   "source": [
    "from src.utils.helper import read_config\n",
    "\n",
    "from pathlib import Path\n",
    "import numpy as np\n",
    "\n",
    "from src.utils.helper import read_config\n",
    "from src.utils.submission import (\n",
    "    db_connect,\n",
    "    table_exists,\n",
    ")\n",
    "import pandas as pd\n",
    "\n",
    "import sqlite3\n",
    "\n",
    "import matplotlib.pyplot as plt\n",
    "import seaborn\n",
    "from sentence_transformers import SentenceTransformer\n",
    "\n",
    "from tqdm import tqdm\n",
    "\n",
    "from src.utils.evaluation import eval_fbeta, pre_process\n",
    "from src.utils.submission import list_all_tables, read_table\n",
    "\n",
    "seaborn.set_style(style=\"whitegrid\")"
   ]
  },
  {
   "cell_type": "code",
   "execution_count": 3,
   "metadata": {},
   "outputs": [],
   "source": [
    "# config_path = \"src/configs/inference_v2.yaml\"\n",
    "config_path = \"src/configs/zeroshot_quiz.yaml\""
   ]
  },
  {
   "cell_type": "code",
   "execution_count": 4,
   "metadata": {},
   "outputs": [],
   "source": [
    "cfg = read_config(config_path)"
   ]
  },
  {
   "cell_type": "code",
   "execution_count": 5,
   "metadata": {},
   "outputs": [
    {
     "data": {
      "text/plain": [
       "'zeroshot_quiz_zeroshot_nov3_groq_gemma2_9b_cot_quiz.csv.gz'"
      ]
     },
     "execution_count": 5,
     "metadata": {},
     "output_type": "execute_result"
    }
   ],
   "source": [
    "sub_fn = f\"{os.path.basename(config_path).split('.')[0]}_{cfg['submission_table_name']}.csv.gz\"\n",
    "sub_fn"
   ]
  },
  {
   "cell_type": "code",
   "execution_count": 6,
   "metadata": {},
   "outputs": [],
   "source": [
    "conn = db_connect(Path(cfg[\"DB_ROOT\"]) / \"submissions_bak.db\")\n",
    "\n",
    "if not table_exists(conn, cfg[\"submission_table_name\"]):\n",
    "    raise Warning(\"Table does not exist, check the table name\")"
   ]
  },
  {
   "cell_type": "code",
   "execution_count": 7,
   "metadata": {},
   "outputs": [],
   "source": [
    "cursor = conn.cursor()"
   ]
  },
  {
   "cell_type": "code",
   "execution_count": 8,
   "metadata": {},
   "outputs": [],
   "source": [
    "cursor.execute(f\"SELECT * FROM {cfg['submission_table_name']}\")\n",
    "rows = [x[1:] for x in cursor.fetchall()]"
   ]
  },
  {
   "cell_type": "code",
   "execution_count": 9,
   "metadata": {},
   "outputs": [],
   "source": [
    "df = pd.DataFrame(rows, columns=[\"RECORD_ID\", \"FTMNT_YEAR\", \"FTMNT_MAKE\", \"FTMNT_MODEL\"])"
   ]
  },
  {
   "cell_type": "code",
   "execution_count": 10,
   "metadata": {},
   "outputs": [],
   "source": [
    "# include rows only with entropy <= 0.5\n",
    "# df = df[df[\"ENTROPY\"] <= 0.55]"
   ]
  },
  {
   "cell_type": "code",
   "execution_count": 11,
   "metadata": {},
   "outputs": [
    {
     "data": {
      "text/html": [
       "<div>\n",
       "<style scoped>\n",
       "    .dataframe tbody tr th:only-of-type {\n",
       "        vertical-align: middle;\n",
       "    }\n",
       "\n",
       "    .dataframe tbody tr th {\n",
       "        vertical-align: top;\n",
       "    }\n",
       "\n",
       "    .dataframe thead th {\n",
       "        text-align: right;\n",
       "    }\n",
       "</style>\n",
       "<table border=\"1\" class=\"dataframe\">\n",
       "  <thead>\n",
       "    <tr style=\"text-align: right;\">\n",
       "      <th></th>\n",
       "      <th>RECORD_ID</th>\n",
       "      <th>FTMNT_YEAR</th>\n",
       "      <th>FTMNT_MAKE</th>\n",
       "      <th>FTMNT_MODEL</th>\n",
       "    </tr>\n",
       "  </thead>\n",
       "  <tbody>\n",
       "    <tr>\n",
       "      <th>0</th>\n",
       "      <td>5004</td>\n",
       "      <td>2015</td>\n",
       "      <td>mazda</td>\n",
       "      <td>3</td>\n",
       "    </tr>\n",
       "    <tr>\n",
       "      <th>1</th>\n",
       "      <td>5000</td>\n",
       "      <td>2005</td>\n",
       "      <td>dodge</td>\n",
       "      <td>300</td>\n",
       "    </tr>\n",
       "    <tr>\n",
       "      <th>2</th>\n",
       "      <td>5000</td>\n",
       "      <td>2006</td>\n",
       "      <td>dodge</td>\n",
       "      <td>300</td>\n",
       "    </tr>\n",
       "    <tr>\n",
       "      <th>3</th>\n",
       "      <td>5000</td>\n",
       "      <td>2007</td>\n",
       "      <td>dodge</td>\n",
       "      <td>300</td>\n",
       "    </tr>\n",
       "    <tr>\n",
       "      <th>4</th>\n",
       "      <td>5000</td>\n",
       "      <td>2008</td>\n",
       "      <td>dodge</td>\n",
       "      <td>300</td>\n",
       "    </tr>\n",
       "    <tr>\n",
       "      <th>...</th>\n",
       "      <td>...</td>\n",
       "      <td>...</td>\n",
       "      <td>...</td>\n",
       "      <td>...</td>\n",
       "    </tr>\n",
       "    <tr>\n",
       "      <th>230760</th>\n",
       "      <td>29998</td>\n",
       "      <td>2010</td>\n",
       "      <td>audi</td>\n",
       "      <td>s8</td>\n",
       "    </tr>\n",
       "    <tr>\n",
       "      <th>230761</th>\n",
       "      <td>29998</td>\n",
       "      <td>2011</td>\n",
       "      <td>audi</td>\n",
       "      <td>s8</td>\n",
       "    </tr>\n",
       "    <tr>\n",
       "      <th>230762</th>\n",
       "      <td>29999</td>\n",
       "      <td>1982</td>\n",
       "      <td>toyota</td>\n",
       "      <td>celica</td>\n",
       "    </tr>\n",
       "    <tr>\n",
       "      <th>230763</th>\n",
       "      <td>29999</td>\n",
       "      <td>1983</td>\n",
       "      <td>toyota</td>\n",
       "      <td>celica</td>\n",
       "    </tr>\n",
       "    <tr>\n",
       "      <th>230764</th>\n",
       "      <td>29999</td>\n",
       "      <td>1984</td>\n",
       "      <td>toyota</td>\n",
       "      <td>celica</td>\n",
       "    </tr>\n",
       "  </tbody>\n",
       "</table>\n",
       "<p>230765 rows × 4 columns</p>\n",
       "</div>"
      ],
      "text/plain": [
       "        RECORD_ID FTMNT_YEAR FTMNT_MAKE FTMNT_MODEL\n",
       "0            5004       2015      mazda           3\n",
       "1            5000       2005      dodge         300\n",
       "2            5000       2006      dodge         300\n",
       "3            5000       2007      dodge         300\n",
       "4            5000       2008      dodge         300\n",
       "...           ...        ...        ...         ...\n",
       "230760      29998       2010       audi          s8\n",
       "230761      29998       2011       audi          s8\n",
       "230762      29999       1982     toyota      celica\n",
       "230763      29999       1983     toyota      celica\n",
       "230764      29999       1984     toyota      celica\n",
       "\n",
       "[230765 rows x 4 columns]"
      ]
     },
     "execution_count": 11,
     "metadata": {},
     "output_type": "execute_result"
    }
   ],
   "source": [
    "df[df[\"RECORD_ID\"].between(5000, 29999)]"
   ]
  },
  {
   "cell_type": "code",
   "execution_count": 12,
   "metadata": {},
   "outputs": [
    {
     "data": {
      "text/plain": [
       "(20939,)"
      ]
     },
     "execution_count": 12,
     "metadata": {},
     "output_type": "execute_result"
    }
   ],
   "source": [
    "df[\"RECORD_ID\"].unique().shape"
   ]
  },
  {
   "cell_type": "code",
   "execution_count": 13,
   "metadata": {},
   "outputs": [
    {
     "data": {
      "text/plain": [
       "RECORD_ID      0\n",
       "FTMNT_YEAR     0\n",
       "FTMNT_MAKE     0\n",
       "FTMNT_MODEL    0\n",
       "dtype: int64"
      ]
     },
     "execution_count": 13,
     "metadata": {},
     "output_type": "execute_result"
    }
   ],
   "source": [
    "df.isna().sum()"
   ]
  },
  {
   "cell_type": "code",
   "execution_count": 14,
   "metadata": {},
   "outputs": [],
   "source": [
    "df = df[df[\"RECORD_ID\"].between(5000, 29999)]\n",
    "# df[df.select_dtypes(include=['object']).columns] = df.select_dtypes(include=['object']).apply(lambda x: x.str.strip())\n",
    "df.replace(\"\", np.nan, inplace=True)\n",
    "df.replace(\"N/A\", np.nan, inplace=True)\n",
    "df.replace(\"NA\", np.nan, inplace=True)\n",
    "df.replace(\"na\", np.nan, inplace=True)\n",
    "df.replace(\"n/a\", np.nan, inplace=True)\n",
    "df.replace(\"None\", np.nan, inplace=True)\n",
    "df.replace(\"none\", np.nan, inplace=True)\n",
    "df.replace(\"NaN\", np.nan, inplace=True)\n",
    "df.replace(\"nan\", np.nan, inplace=True)\n",
    "df.replace(\"null\", np.nan, inplace=True)\n",
    "df.replace(\"NULL\", np.nan, inplace=True)\n",
    "df.dropna(how='any', inplace=True)\n",
    "# Q: ValueError: Cannot mask with non-boolean array containing NA / NaN values\n",
    "\n",
    "# A: df = df[df[\"FTMNT_YEAR\"].str.isnumeric()] will raise the error because of NaN values in the column\n",
    "\n",
    "# if record id has values less than 5000 or more than 29999, drop them\n"
   ]
  },
  {
   "cell_type": "code",
   "execution_count": 15,
   "metadata": {},
   "outputs": [],
   "source": [
    "assert df.isna().sum().sum() == 0, \"WARNING, NAN VALUES IN THE DATAFRAME\""
   ]
  },
  {
   "cell_type": "code",
   "execution_count": 16,
   "metadata": {},
   "outputs": [
    {
     "data": {
      "text/plain": [
       "(20931,)"
      ]
     },
     "execution_count": 16,
     "metadata": {},
     "output_type": "execute_result"
    }
   ],
   "source": [
    "df[\"RECORD_ID\"].unique().shape"
   ]
  },
  {
   "cell_type": "code",
   "execution_count": 17,
   "metadata": {},
   "outputs": [],
   "source": [
    "# only inlcude the columns that are needed\n",
    "df = df[[\"RECORD_ID\", \"FTMNT_YEAR\", \"FTMNT_MAKE\", \"FTMNT_MODEL\"]]"
   ]
  },
  {
   "cell_type": "code",
   "execution_count": 18,
   "metadata": {},
   "outputs": [],
   "source": [
    "class EbayMMcoder:\n",
    "    def __init__(self, model_name=\"multi-qa-mpnet-base-dot-v1\"):\n",
    "        self.model = SentenceTransformer(model_name)\n",
    "    \n",
    "    def encode(self, make_models):\n",
    "        self.make_models = make_models\n",
    "        self.pairwise_embeddings = self.model.encode([f\"{make}+{model}\" for make, model in [(x.lower(), y.lower()) for x, y in make_models]])\n",
    "        \n",
    "    \n",
    "    def similar_make(self, make):\n",
    "        score, indices = self.model.similarity(self.model.encode([make]), self.makes_embeddings).topk(1)\n",
    "        return self.makes[indices[0]]\n",
    "    \n",
    "    def similar_model(self, model):\n",
    "        score, indices = self.model.similarity(self.model.encode([model]), self.models_embeddings).topk(1)\n",
    "        return self.models[indices[0]]\n",
    "\n",
    "    def get_make_model(self, makemodel):\n",
    "        score, indices = self.model.similarity(self.model.encode(makemodel), self.pairwise_embeddings).topk(1)\n",
    "        return [self.make_models[x] for x in indices.flatten()]\n",
    "\n",
    "mmcoder = EbayMMcoder()"
   ]
  },
  {
   "cell_type": "code",
   "execution_count": 19,
   "metadata": {},
   "outputs": [],
   "source": [
    "conn = sqlite3.connect(database=\"db/submissions_bak.db\")\n",
    "cursor = conn.cursor()\n",
    "cursor.execute(\n",
    "f\"\"\"SELECT RECORD_ID, FTMNT_YEAR, FTMNT_MAKE, FTMNT_MODEL FROM ground_truth\"\"\"\n",
    ")\n",
    "gt_results= [x for x in cursor.fetchall()]\n",
    "conn.close()\n",
    "gt_record_ids = [x[0] for x in gt_results]"
   ]
  },
  {
   "cell_type": "code",
   "execution_count": 20,
   "metadata": {},
   "outputs": [],
   "source": [
    "car_makes = [x[2] for x in gt_results]\n",
    "car_models = [x[3] for x in gt_results]"
   ]
  },
  {
   "cell_type": "code",
   "execution_count": 21,
   "metadata": {},
   "outputs": [],
   "source": [
    "car_make_models = list(set([(x, y) for x, y in zip(car_makes, car_models)]))"
   ]
  },
  {
   "cell_type": "code",
   "execution_count": 22,
   "metadata": {},
   "outputs": [],
   "source": [
    "mmcoder.encode(car_make_models)"
   ]
  },
  {
   "cell_type": "code",
   "execution_count": 23,
   "metadata": {},
   "outputs": [
    {
     "data": {
      "text/plain": [
       "[('Chevrolet', 'Camaro'), ('Ford', 'Mustang'), ('Mercedes-Benz', '500SEL')]"
      ]
     },
     "execution_count": 23,
     "metadata": {},
     "output_type": "execute_result"
    }
   ],
   "source": [
    "mmcoder.get_make_model([\"chevy+camaro\", \"ford+mustang\", \"Mercedes+500\"])"
   ]
  },
  {
   "cell_type": "code",
   "execution_count": 24,
   "metadata": {},
   "outputs": [
    {
     "data": {
      "text/plain": [
       "[('Chevrolet', 'Classic')]"
      ]
     },
     "execution_count": 24,
     "metadata": {},
     "output_type": "execute_result"
    }
   ],
   "source": [
    "mmcoder.get_make_model(\"American Motors+ classic\")"
   ]
  },
  {
   "cell_type": "code",
   "execution_count": null,
   "metadata": {},
   "outputs": [],
   "source": []
  },
  {
   "cell_type": "code",
   "execution_count": 25,
   "metadata": {},
   "outputs": [],
   "source": [
    "class ProcessSubmission:\n",
    "    def __init__(self, df):\n",
    "        self.df = df\n",
    "        self.records = df.to_numpy().tolist()\n",
    "        self.current_count = len(self.records)\n",
    "        self.new_count = 0\n",
    "    \n",
    "    def split_years(self):\n",
    "        for record in self.records:\n",
    "            year = record[1]\n",
    "            start_year, end_year = None, None\n",
    "            \n",
    "            if isinstance(year, float):\n",
    "                continue\n",
    "            \n",
    "            if not isinstance(year, int) and \"-\" in year:\n",
    "                year = year.split(\"-\")\n",
    "                if not year[0].isnumeric() or not year[1].isnumeric():\n",
    "                    continue\n",
    "                    \n",
    "                start_year, end_year = int(year[0]), int(year[1])\n",
    "                for i in range(start_year, end_year+1):\n",
    "                    self.records.append([record[0], i, record[2], record[3]])\n",
    "                    self.new_count += 1\n",
    "\n",
    "            if len(str(year)) == 2 and str(year).isnumeric():\n",
    "                year = int(f\"20{year}\")\n",
    "                self.records.append([record[0], year, record[2], record[3]])\n",
    "                self.new_count += 1 \n",
    "\n",
    "    def remove_str_years(self):\n",
    "        # copy of self.records\n",
    "        clone_records = []\n",
    "        for record in self.records:\n",
    "            year = record[1]\n",
    "            len_year = len(str(year))\n",
    "            if isinstance(year, str):\n",
    "                self.new_count -= 1\n",
    "                continue\n",
    "            if isinstance(year, int):\n",
    "                if (len_year < 4 or len_year > 4):\n",
    "                    self.new_count -= 1\n",
    "                    continue\n",
    "                else:\n",
    "                    if year >= 2025 or year <= 1885:\n",
    "                        self.new_count -= 1\n",
    "                        continue\n",
    "                clone_records.append(record)\n",
    "                        \n",
    "                        \n",
    "            \n",
    "        self.records = clone_records\n",
    "    \n",
    "    def correct_make_model(self, bsz=128):\n",
    "        new_records = []\n",
    "        i = 0\n",
    "        for i in tqdm(range(0, len(self.records), bsz)):\n",
    "            batch = []\n",
    "            data = []\n",
    "            for record in self.records[i:i+bsz]:\n",
    "                batch.append(f\"{record[2]}+{record[3]}\")\n",
    "                data.append((record[0], record[1]))\n",
    "            make_models = mmcoder.get_make_model(batch)\n",
    "            for idx, (make, model) in enumerate(make_models):\n",
    "                new_records.append([data[idx][0], data[idx][1], make, model])\n",
    "        self.records = new_records\n",
    "    \n",
    "    def convert_to_df(self):\n",
    "        return pd.DataFrame(self.records, columns=[\"RECORD_ID\", \"FTMNT_YEAR\", \"FTMNT_MAKE\", \"FTMNT_MODEL\"])\n"
   ]
  },
  {
   "cell_type": "code",
   "execution_count": 26,
   "metadata": {},
   "outputs": [],
   "source": [
    "p = ProcessSubmission(df)"
   ]
  },
  {
   "cell_type": "code",
   "execution_count": 27,
   "metadata": {},
   "outputs": [],
   "source": [
    "p.split_years()\n",
    "p.remove_str_years()"
   ]
  },
  {
   "cell_type": "code",
   "execution_count": 28,
   "metadata": {},
   "outputs": [
    {
     "data": {
      "text/plain": [
       "230682"
      ]
     },
     "execution_count": 28,
     "metadata": {},
     "output_type": "execute_result"
    }
   ],
   "source": [
    "p.current_count"
   ]
  },
  {
   "cell_type": "code",
   "execution_count": 29,
   "metadata": {},
   "outputs": [
    {
     "name": "stderr",
     "output_type": "stream",
     "text": [
      "  0%|          | 0/1800 [00:00<?, ?it/s]"
     ]
    },
    {
     "name": "stderr",
     "output_type": "stream",
     "text": [
      "100%|██████████| 1800/1800 [01:08<00:00, 26.32it/s]\n"
     ]
    }
   ],
   "source": [
    "p.correct_make_model()"
   ]
  },
  {
   "cell_type": "code",
   "execution_count": 31,
   "metadata": {},
   "outputs": [
    {
     "data": {
      "text/plain": [
       "-375"
      ]
     },
     "execution_count": 31,
     "metadata": {},
     "output_type": "execute_result"
    }
   ],
   "source": [
    "p.new_count"
   ]
  },
  {
   "cell_type": "code",
   "execution_count": 32,
   "metadata": {},
   "outputs": [
    {
     "data": {
      "text/html": [
       "<div>\n",
       "<style scoped>\n",
       "    .dataframe tbody tr th:only-of-type {\n",
       "        vertical-align: middle;\n",
       "    }\n",
       "\n",
       "    .dataframe tbody tr th {\n",
       "        vertical-align: top;\n",
       "    }\n",
       "\n",
       "    .dataframe thead th {\n",
       "        text-align: right;\n",
       "    }\n",
       "</style>\n",
       "<table border=\"1\" class=\"dataframe\">\n",
       "  <thead>\n",
       "    <tr style=\"text-align: right;\">\n",
       "      <th></th>\n",
       "      <th>RECORD_ID</th>\n",
       "      <th>FTMNT_YEAR</th>\n",
       "      <th>FTMNT_MAKE</th>\n",
       "      <th>FTMNT_MODEL</th>\n",
       "    </tr>\n",
       "  </thead>\n",
       "  <tbody>\n",
       "    <tr>\n",
       "      <th>0</th>\n",
       "      <td>5004</td>\n",
       "      <td>2015</td>\n",
       "      <td>Mazda</td>\n",
       "      <td>3</td>\n",
       "    </tr>\n",
       "    <tr>\n",
       "      <th>1</th>\n",
       "      <td>5000</td>\n",
       "      <td>2005</td>\n",
       "      <td>Dodge</td>\n",
       "      <td>400</td>\n",
       "    </tr>\n",
       "    <tr>\n",
       "      <th>2</th>\n",
       "      <td>5000</td>\n",
       "      <td>2006</td>\n",
       "      <td>Dodge</td>\n",
       "      <td>400</td>\n",
       "    </tr>\n",
       "    <tr>\n",
       "      <th>3</th>\n",
       "      <td>5000</td>\n",
       "      <td>2007</td>\n",
       "      <td>Dodge</td>\n",
       "      <td>400</td>\n",
       "    </tr>\n",
       "    <tr>\n",
       "      <th>4</th>\n",
       "      <td>5000</td>\n",
       "      <td>2008</td>\n",
       "      <td>Dodge</td>\n",
       "      <td>400</td>\n",
       "    </tr>\n",
       "    <tr>\n",
       "      <th>...</th>\n",
       "      <td>...</td>\n",
       "      <td>...</td>\n",
       "      <td>...</td>\n",
       "      <td>...</td>\n",
       "    </tr>\n",
       "    <tr>\n",
       "      <th>230287</th>\n",
       "      <td>6079</td>\n",
       "      <td>2013</td>\n",
       "      <td>Volvo</td>\n",
       "      <td>760</td>\n",
       "    </tr>\n",
       "    <tr>\n",
       "      <th>230288</th>\n",
       "      <td>6079</td>\n",
       "      <td>2010</td>\n",
       "      <td>Volvo</td>\n",
       "      <td>C30</td>\n",
       "    </tr>\n",
       "    <tr>\n",
       "      <th>230289</th>\n",
       "      <td>6079</td>\n",
       "      <td>2011</td>\n",
       "      <td>Volvo</td>\n",
       "      <td>C30</td>\n",
       "    </tr>\n",
       "    <tr>\n",
       "      <th>230290</th>\n",
       "      <td>6079</td>\n",
       "      <td>2012</td>\n",
       "      <td>Volvo</td>\n",
       "      <td>C30</td>\n",
       "    </tr>\n",
       "    <tr>\n",
       "      <th>230291</th>\n",
       "      <td>6079</td>\n",
       "      <td>2013</td>\n",
       "      <td>Volvo</td>\n",
       "      <td>C30</td>\n",
       "    </tr>\n",
       "  </tbody>\n",
       "</table>\n",
       "<p>230292 rows × 4 columns</p>\n",
       "</div>"
      ],
      "text/plain": [
       "        RECORD_ID  FTMNT_YEAR FTMNT_MAKE FTMNT_MODEL\n",
       "0            5004        2015      Mazda           3\n",
       "1            5000        2005      Dodge         400\n",
       "2            5000        2006      Dodge         400\n",
       "3            5000        2007      Dodge         400\n",
       "4            5000        2008      Dodge         400\n",
       "...           ...         ...        ...         ...\n",
       "230287       6079        2013      Volvo         760\n",
       "230288       6079        2010      Volvo         C30\n",
       "230289       6079        2011      Volvo         C30\n",
       "230290       6079        2012      Volvo         C30\n",
       "230291       6079        2013      Volvo         C30\n",
       "\n",
       "[230292 rows x 4 columns]"
      ]
     },
     "execution_count": 32,
     "metadata": {},
     "output_type": "execute_result"
    }
   ],
   "source": [
    "p.convert_to_df()"
   ]
  },
  {
   "cell_type": "code",
   "execution_count": 34,
   "metadata": {},
   "outputs": [],
   "source": [
    "df = p.convert_to_df()"
   ]
  },
  {
   "cell_type": "code",
   "execution_count": 35,
   "metadata": {},
   "outputs": [
    {
     "data": {
      "text/plain": [
       "array([2015, 2005, 2006, 2007, 2008, 2009, 2010, 1986, 1987, 1988, 1989,\n",
       "       1990, 1991, 1992, 1993, 1994, 1995, 1996, 1997, 1998, 1999, 1980,\n",
       "       1981, 1982, 1983, 1984, 2011, 2012, 2013, 2016, 2002, 2003, 2004,\n",
       "       2001, 2000, 2018, 2019, 2020, 2021, 2022, 2023, 1985, 1970, 1971,\n",
       "       1972, 1973, 2014, 2017, 1974, 1975, 1976, 1960, 1961, 1962, 1963,\n",
       "       1964, 1957, 1958, 1977, 1978, 1979, 1965, 1966, 1967, 1968, 1969,\n",
       "       1959, 1940, 1953, 1954, 1955, 1952, 1956, 1951, 1949, 2024, 1950,\n",
       "       1946, 1947, 1948, 1937, 1928, 1932, 1942, 1943, 1944, 1945, 1933,\n",
       "       1934, 1935, 1936, 1929, 1930, 1931, 1941, 1908, 1927, 1939, 1938,\n",
       "       1925, 1926, 1920, 1917, 1918, 1919, 1921, 1922, 1923, 1924])"
      ]
     },
     "execution_count": 35,
     "metadata": {},
     "output_type": "execute_result"
    }
   ],
   "source": [
    "df[\"FTMNT_YEAR\"].unique()"
   ]
  },
  {
   "cell_type": "code",
   "execution_count": 36,
   "metadata": {},
   "outputs": [
    {
     "data": {
      "text/plain": [
       "'zeroshot_quiz_zeroshot_nov3_groq_gemma2_9b_cot_quiz.csv.gz'"
      ]
     },
     "execution_count": 36,
     "metadata": {},
     "output_type": "execute_result"
    }
   ],
   "source": [
    "sub_fn"
   ]
  },
  {
   "cell_type": "code",
   "execution_count": 37,
   "metadata": {},
   "outputs": [],
   "source": [
    "base_name = os.path.basename(sub_fn).split(\".\")[0]"
   ]
  },
  {
   "cell_type": "code",
   "execution_count": 38,
   "metadata": {},
   "outputs": [
    {
     "data": {
      "text/html": [
       "<div>\n",
       "<style scoped>\n",
       "    .dataframe tbody tr th:only-of-type {\n",
       "        vertical-align: middle;\n",
       "    }\n",
       "\n",
       "    .dataframe tbody tr th {\n",
       "        vertical-align: top;\n",
       "    }\n",
       "\n",
       "    .dataframe thead th {\n",
       "        text-align: right;\n",
       "    }\n",
       "</style>\n",
       "<table border=\"1\" class=\"dataframe\">\n",
       "  <thead>\n",
       "    <tr style=\"text-align: right;\">\n",
       "      <th></th>\n",
       "      <th>RECORD_ID</th>\n",
       "      <th>FTMNT_YEAR</th>\n",
       "      <th>FTMNT_MAKE</th>\n",
       "      <th>FTMNT_MODEL</th>\n",
       "    </tr>\n",
       "  </thead>\n",
       "  <tbody>\n",
       "    <tr>\n",
       "      <th>0</th>\n",
       "      <td>5004</td>\n",
       "      <td>2015</td>\n",
       "      <td>Mazda</td>\n",
       "      <td>3</td>\n",
       "    </tr>\n",
       "    <tr>\n",
       "      <th>1</th>\n",
       "      <td>5000</td>\n",
       "      <td>2005</td>\n",
       "      <td>Dodge</td>\n",
       "      <td>400</td>\n",
       "    </tr>\n",
       "    <tr>\n",
       "      <th>2</th>\n",
       "      <td>5000</td>\n",
       "      <td>2006</td>\n",
       "      <td>Dodge</td>\n",
       "      <td>400</td>\n",
       "    </tr>\n",
       "    <tr>\n",
       "      <th>3</th>\n",
       "      <td>5000</td>\n",
       "      <td>2007</td>\n",
       "      <td>Dodge</td>\n",
       "      <td>400</td>\n",
       "    </tr>\n",
       "    <tr>\n",
       "      <th>4</th>\n",
       "      <td>5000</td>\n",
       "      <td>2008</td>\n",
       "      <td>Dodge</td>\n",
       "      <td>400</td>\n",
       "    </tr>\n",
       "  </tbody>\n",
       "</table>\n",
       "</div>"
      ],
      "text/plain": [
       "   RECORD_ID  FTMNT_YEAR FTMNT_MAKE FTMNT_MODEL\n",
       "0       5004        2015      Mazda           3\n",
       "1       5000        2005      Dodge         400\n",
       "2       5000        2006      Dodge         400\n",
       "3       5000        2007      Dodge         400\n",
       "4       5000        2008      Dodge         400"
      ]
     },
     "execution_count": 38,
     "metadata": {},
     "output_type": "execute_result"
    }
   ],
   "source": [
    "df.head()"
   ]
  },
  {
   "cell_type": "code",
   "execution_count": 42,
   "metadata": {},
   "outputs": [],
   "source": [
    "df.to_csv(f\"/home/017534556/projects/ebay-comp-2024/submissions/{sub_fn}\", index=False, compression=\"gzip\")"
   ]
  },
  {
   "cell_type": "code",
   "execution_count": 418,
   "metadata": {},
   "outputs": [],
   "source": [
    "# df.to_csv(f\"/home/017534556/projects/ebay-comp-2024/submissions/{base_name+'_entropy_055'+'.csv.gz'}\", index=False, compression=\"gzip\")"
   ]
  },
  {
   "cell_type": "code",
   "execution_count": 43,
   "metadata": {},
   "outputs": [
    {
     "name": "stderr",
     "output_type": "stream",
     "text": [
      "huggingface/tokenizers: The current process just got forked, after parallelism has already been used. Disabling parallelism to avoid deadlocks...\n",
      "To disable this warning, you can either:\n",
      "\t- Avoid using `tokenizers` before the fork if possible\n",
      "\t- Explicitly set the environment variable TOKENIZERS_PARALLELISM=(true | false)\n"
     ]
    }
   ],
   "source": [
    "!zcat /home/017534556/projects/ebay-comp-2024/submissions/{sub_fn} > /home/017534556/projects/ebay-comp-2024/submissions/{sub_fn.split('.')[0]}.csv"
   ]
  },
  {
   "cell_type": "code",
   "execution_count": 45,
   "metadata": {},
   "outputs": [],
   "source": [
    "new_df = pd.read_csv(\"/home/017534556/projects/ebay-comp-2024/submissions/zeroshot_quiz_zeroshot_nov3_groq_gemma2_9b_cot_quiz.csv\")"
   ]
  },
  {
   "cell_type": "code",
   "execution_count": 46,
   "metadata": {},
   "outputs": [
    {
     "data": {
      "text/html": [
       "<div>\n",
       "<style scoped>\n",
       "    .dataframe tbody tr th:only-of-type {\n",
       "        vertical-align: middle;\n",
       "    }\n",
       "\n",
       "    .dataframe tbody tr th {\n",
       "        vertical-align: top;\n",
       "    }\n",
       "\n",
       "    .dataframe thead th {\n",
       "        text-align: right;\n",
       "    }\n",
       "</style>\n",
       "<table border=\"1\" class=\"dataframe\">\n",
       "  <thead>\n",
       "    <tr style=\"text-align: right;\">\n",
       "      <th></th>\n",
       "      <th>RECORD_ID</th>\n",
       "      <th>FTMNT_YEAR</th>\n",
       "      <th>FTMNT_MAKE</th>\n",
       "      <th>FTMNT_MODEL</th>\n",
       "    </tr>\n",
       "  </thead>\n",
       "  <tbody>\n",
       "  </tbody>\n",
       "</table>\n",
       "</div>"
      ],
      "text/plain": [
       "Empty DataFrame\n",
       "Columns: [RECORD_ID, FTMNT_YEAR, FTMNT_MAKE, FTMNT_MODEL]\n",
       "Index: []"
      ]
     },
     "execution_count": 46,
     "metadata": {},
     "output_type": "execute_result"
    }
   ],
   "source": [
    "new_df[new_df.isna().any(axis=1)]"
   ]
  },
  {
   "cell_type": "code",
   "execution_count": 47,
   "metadata": {},
   "outputs": [
    {
     "data": {
      "text/plain": [
       "array([], dtype=int64)"
      ]
     },
     "execution_count": 47,
     "metadata": {},
     "output_type": "execute_result"
    }
   ],
   "source": [
    "record_ids_to_check = new_df[new_df.isna().any(axis=1)][\"RECORD_ID\"].unique()\n",
    "record_ids_to_check"
   ]
  },
  {
   "cell_type": "code",
   "execution_count": 48,
   "metadata": {},
   "outputs": [
    {
     "data": {
      "text/html": [
       "<div>\n",
       "<style scoped>\n",
       "    .dataframe tbody tr th:only-of-type {\n",
       "        vertical-align: middle;\n",
       "    }\n",
       "\n",
       "    .dataframe tbody tr th {\n",
       "        vertical-align: top;\n",
       "    }\n",
       "\n",
       "    .dataframe thead th {\n",
       "        text-align: right;\n",
       "    }\n",
       "</style>\n",
       "<table border=\"1\" class=\"dataframe\">\n",
       "  <thead>\n",
       "    <tr style=\"text-align: right;\">\n",
       "      <th></th>\n",
       "      <th>RECORD_ID</th>\n",
       "      <th>FTMNT_YEAR</th>\n",
       "      <th>FTMNT_MAKE</th>\n",
       "      <th>FTMNT_MODEL</th>\n",
       "    </tr>\n",
       "  </thead>\n",
       "  <tbody>\n",
       "  </tbody>\n",
       "</table>\n",
       "</div>"
      ],
      "text/plain": [
       "Empty DataFrame\n",
       "Columns: [RECORD_ID, FTMNT_YEAR, FTMNT_MAKE, FTMNT_MODEL]\n",
       "Index: []"
      ]
     },
     "execution_count": 48,
     "metadata": {},
     "output_type": "execute_result"
    }
   ],
   "source": [
    "# view nan data rows\n",
    "df[df[\"RECORD_ID\"].isin(record_ids_to_check)]\n"
   ]
  }
 ],
 "metadata": {
  "kernelspec": {
   "display_name": "ebay_oct25_hpc1",
   "language": "python",
   "name": "python3"
  },
  "language_info": {
   "codemirror_mode": {
    "name": "ipython",
    "version": 3
   },
   "file_extension": ".py",
   "mimetype": "text/x-python",
   "name": "python",
   "nbconvert_exporter": "python",
   "pygments_lexer": "ipython3",
   "version": "3.10.8"
  }
 },
 "nbformat": 4,
 "nbformat_minor": 2
}
